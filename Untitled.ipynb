{
 "cells": [
  {
   "cell_type": "code",
   "execution_count": null,
   "id": "cc1b093d",
   "metadata": {},
   "outputs": [],
   "source": []
  },
  {
   "cell_type": "code",
   "execution_count": 2,
   "id": "1c34bb8a",
   "metadata": {},
   "outputs": [],
   "source": [
    "\n",
    "# list1 = [2,3,4,5,6,7,8,9]\n",
    "# list2 = [1,3,5,6,9]\n",
    "\n",
    "def mergeSort(list1,list2):\n",
    "    _list=[]\n",
    "    len1=len(list1)\n",
    "    len2=len(list2)\n",
    "    i=j=0\n",
    "    while i<len1 and j<len2:\n",
    "        if list1[i]<list2[j]:\n",
    "            _list.append(list1[i])\n",
    "            i+=1\n",
    "        else:\n",
    "            _list.append(list2[j])\n",
    "            j+=1\n",
    "    _list+=list1[i:]\n",
    "    _list+=list2[j:]\n",
    "    return _list         \n",
    "\n"
   ]
  },
  {
   "cell_type": "code",
   "execution_count": 3,
   "id": "34412bdc",
   "metadata": {},
   "outputs": [],
   "source": [
    "def merge(_list):\n",
    "    if len(_list)==1:\n",
    "        return _list\n",
    "    else:\n",
    "        mid=len(_list)//2\n",
    "        right= _list[mid:]\n",
    "        left= _list[:mid]\n",
    "        \n",
    "    right=merge(right)\n",
    "    left=merge(left) \n",
    "    \n",
    "    return mergeSort(right,left)\n",
    "        "
   ]
  },
  {
   "cell_type": "code",
   "execution_count": 4,
   "id": "3bb2a87d",
   "metadata": {},
   "outputs": [
    {
     "name": "stdout",
     "output_type": "stream",
     "text": [
      "[3, 7, 10, 3, 6, 6, 3, 2, 9, 1]\n",
      "[1, 2, 3, 3, 3, 6, 6, 7, 9, 10]\n"
     ]
    }
   ],
   "source": [
    "from random import randint as rnd \n",
    "\n",
    "length= 10 \n",
    "_list= [rnd(1,length) for i in range(length)]\n",
    "print(_list)\n",
    "_list = merge(_list)\n",
    "print(_list)"
   ]
  },
  {
   "cell_type": "code",
   "execution_count": null,
   "id": "f42e205a",
   "metadata": {},
   "outputs": [],
   "source": []
  },
  {
   "cell_type": "code",
   "execution_count": null,
   "id": "4d530718",
   "metadata": {},
   "outputs": [],
   "source": []
  }
 ],
 "metadata": {
  "kernelspec": {
   "display_name": "Python 3",
   "language": "python",
   "name": "python3"
  },
  "language_info": {
   "codemirror_mode": {
    "name": "ipython",
    "version": 3
   },
   "file_extension": ".py",
   "mimetype": "text/x-python",
   "name": "python",
   "nbconvert_exporter": "python",
   "pygments_lexer": "ipython3",
   "version": "3.10.8"
  },
  "vscode": {
   "interpreter": {
    "hash": "8c3d4d9970fc5c09c50d9318a9c7fbf4d0159e4b28833276f5678ee22bded273"
   }
  }
 },
 "nbformat": 4,
 "nbformat_minor": 5
}
